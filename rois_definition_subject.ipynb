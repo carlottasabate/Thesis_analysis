{
 "cells": [
  {
   "cell_type": "code",
   "execution_count": 5,
   "metadata": {},
   "outputs": [],
   "source": [
    "from nibabel.freesurfer.io import read_morph_data, write_morph_data # allows to read and write those curv files\n",
    "import pickle\n",
    "# read in pRF-estimates file\n",
    "# for prf analysis\n",
    "%matplotlib inline\n",
    "from linescanning import prf, plotting, fitting\n",
    "import numpy as np\n",
    "import os\n",
    "from scipy import io\n",
    "import seaborn as sns\n",
    "import matplotlib.pyplot as plt\n",
    "import pandas as pd\n",
    "opd = os.path.dirname\n",
    "opj = os.path.join"
   ]
  },
  {
   "cell_type": "code",
   "execution_count": 7,
   "metadata": {},
   "outputs": [],
   "source": [
    "subnum = '007'\n",
    "subject = 'sub-'+subnum\n",
    "\n",
    "\n",
    "## Get placebo session \n",
    "if subnum in ['003', '004', '007', '012', '016']: # placebo session 3\n",
    "        \n",
    "        ses = 'ses-3'\n",
    "                \n",
    "else:  ## placebo session 2   \n",
    "        \n",
    "        ses = 'ses-2'"
   ]
  },
  {
   "cell_type": "markdown",
   "metadata": {},
   "source": [
    "## Fit the Gaussian model to the preprocessed median BOLD signal"
   ]
  },
  {
   "cell_type": "code",
   "execution_count": null,
   "metadata": {},
   "outputs": [],
   "source": [
    "timecourse = np.load(f'/data1/projects/Meman1/projects/pilot/derivatives/prf/{subject}/{ses}/{subject}_{ses}_task-2R_hemi-LR_desc-avg_bold.npy') \n",
    "\n",
    "designmatrix = prf.read_par_file(opj(opd(opd(prf.__file__)), '/data1/projects/Meman1/projects/pilot/code', 'design_task-2R.mat'))"
   ]
  },
  {
   "cell_type": "code",
   "execution_count": null,
   "metadata": {},
   "outputs": [],
   "source": [
    "### the parameters optimization is perfromed in the linux console, across several jobs in order to reduce time and CPU\n",
    "\n",
    "# we initiate the model as per usual\n",
    "g_load = prf.pRFmodelFitting(\n",
    "    timecourse.T,\n",
    "    design_matrix=designmatrix,\n",
    "    TR=1.5,\n",
    "    verbose=True,\n",
    "    model = 'gauss',\n",
    "    stage = 'iter',\n",
    "    constraints= 'bgfs')"
   ]
  },
  {
   "cell_type": "markdown",
   "metadata": {},
   "source": [
    "**The parameters optimization is perfromed in the linux console, across several jobs in order to reduce time and CPU**"
   ]
  },
  {
   "cell_type": "code",
   "execution_count": 8,
   "metadata": {},
   "outputs": [
    {
     "name": "stdout",
     "output_type": "stream",
     "text": [
      "(339716, 6)\n"
     ]
    }
   ],
   "source": [
    "### ses-2 ###\n",
    "prf_file = f'/data1/projects/Meman1/projects/pilot/derivatives/prf/{subject}/{ses}/{subject}_{ses}_task-2R_model-gauss_stage-iter_desc-prf_params.pkl'\n",
    "\n",
    "prf_results = prf.read_par_file(prf_file)\n",
    "print(prf_results.shape)"
   ]
  },
  {
   "cell_type": "markdown",
   "metadata": {},
   "source": [
    "## Calculate polarity and eccentricity"
   ]
  },
  {
   "cell_type": "code",
   "execution_count": 9,
   "metadata": {},
   "outputs": [
    {
     "name": "stdout",
     "output_type": "stream",
     "text": [
      "[6.13348544 5.53093423 5.39789653 ... 0.         0.         0.        ] [-1.01113632 -1.50138396 -1.47654575 ...  0.          0.\n",
      "  0.        ] [0.44598526 0.16080613 0.25178902 ... 0.         0.         0.        ]\n"
     ]
    }
   ],
   "source": [
    "# actually extract the prf measurements:\n",
    "eccentricity = np.sqrt( prf_results[:,0]**2 + prf_results[:,1]**2 ) # x and y squared\n",
    "\n",
    "polar_angle = np.arctan2( prf_results[:,1], prf_results[:,0] )\n",
    "\n",
    "r2 = prf_results[:,-1] #r2 values\n",
    "\n",
    "print(eccentricity, polar_angle, r2)"
   ]
  },
  {
   "cell_type": "code",
   "execution_count": 10,
   "metadata": {},
   "outputs": [
    {
     "name": "stdout",
     "output_type": "stream",
     "text": [
      "39234\n",
      "328553\n",
      "28071\n"
     ]
    }
   ],
   "source": [
    "# some code that illustrates the masking:\n",
    "r2_mask = r2 > 0.1 #“float with your r squared threshold” # creates Boolean array with those vertices above the threshold\n",
    "\n",
    "#ecc_mask = eccentricity < np.max(eccentricity)# “float with your max eccentricity value” / it should be like 5 radius\n",
    "ecc_mask = eccentricity < 5 # (visual space radius) it should be like 5 radius\n",
    "\n",
    "total_mask = r2_mask * ecc_mask # Boolean array where both above r squared and below maximum eccentricity\n",
    "# note: you could include different things into your mask, such as minimal signal intensity, minimum eccentricity etc. \n",
    " \n",
    "#masked_polar_angle = np.where(total_mask, polar_angle, -10) # take only polar\n",
    "masked_polar_angle = np.where(r2_mask, polar_angle, -10) # take only polar\n",
    "\n",
    "#angle values for those vertices we want to include, put -10 for all others (so we can exclude them for plotting)\n",
    "masked_eccentricity = np.where(total_mask, eccentricity, -10)\n",
    "\n",
    "# freeview has separate curv files for left and right hemisphere, so if your prf analysis results are combined hemispheres we need to split them first:\n",
    "print(np.sum(r2_mask)) # 27880 / 327099\n",
    "\n",
    "print(np.sum(ecc_mask)) #288670 / 327099\n",
    "\n",
    "print(np.sum(total_mask)) #18160 / 327099"
   ]
  },
  {
   "cell_type": "markdown",
   "metadata": {},
   "source": [
    "## Save eccentricity and polarity mask to plot in the inflated surface (Freesurfer)"
   ]
  },
  {
   "cell_type": "code",
   "execution_count": 11,
   "metadata": {},
   "outputs": [],
   "source": [
    "lh_c = read_morph_data(f'/data1/projects/Meman1/projects/pilot/derivatives/freesurfer/{subject}/surf/lh.curv') # this is just to get the number of vertices for the left hemisphere. With that we can split the prf_results into the separate hemispheres. The curv files should be located in your freesurfer/subID/surfs folder.\n",
    " \n",
    "lh_masked_pol = masked_polar_angle[:lh_c.shape[0]] # left hemisphere = all vertices up to the index\n",
    "rh_masked_pol = masked_polar_angle[lh_c.shape[0]:] # all vertices from that vertex onwards belong to the right hemisphere\n",
    "\n",
    "lh_masked_ecc = masked_eccentricity[:lh_c.shape[0]] # left hemisphere = all vertices up to the index\n",
    "rh_masked_ecc = masked_eccentricity[lh_c.shape[0]:] # all vertices from that vertex onwards belong to the right hemisphere\n",
    " \n",
    "# now save the results as curv file:\n",
    "fs_dir = f'/data1/projects/Meman1/projects/pilot/derivatives/freesurfer/{subject}/surf'\n",
    " \n",
    "write_morph_data(opj(fs_dir, 'lh.masked_pol'), lh_masked_pol) #opj(fs_dir, <name you want to give the new curv file, something like “lh.masked_pol”>), lh_masked_pol\n",
    "write_morph_data(opj(fs_dir, 'rh.masked_pol'), rh_masked_pol)\n",
    "\n",
    "write_morph_data(opj(fs_dir, 'lh.masked_ecc'), lh_masked_ecc) #opj(fs_dir, <name you want to give the new curv file, something like “lh.masked_pol”>), lh_masked_pol\n",
    "write_morph_data(opj(fs_dir, 'rh.masked_ecc'), rh_masked_ecc)"
   ]
  },
  {
   "cell_type": "markdown",
   "metadata": {},
   "source": [
    "## FreeSurfer"
   ]
  },
  {
   "cell_type": "markdown",
   "metadata": {},
   "source": [
    "**Open freeview with the polar mask as an overlay layer on the inflated surface of the subject. Overlay_custom allows to color-encode the angles.**\n",
    "\n",
    "*In the terminal , to open freeview (from the surface directory of the subjects):*"
   ]
  },
  {
   "cell_type": "code",
   "execution_count": null,
   "metadata": {
    "vscode": {
     "languageId": "shellscript"
    }
   },
   "outputs": [],
   "source": [
    "cd /data1/projects/Meman1/projects/pilot/derivatives/freesurfer/{subject}/surf"
   ]
  },
  {
   "cell_type": "markdown",
   "metadata": {},
   "source": [
    "*overlay_custom=-3.14,255,0,0,:* refers to -3.14 degrees and {255, 0, 0} is the rgb color for this polar angle. Thus, the following numbers refer to a combination of the angle and the 3 rgb values to encode it.\n"
   ]
  },
  {
   "cell_type": "code",
   "execution_count": null,
   "metadata": {
    "vscode": {
     "languageId": "shellscript"
    }
   },
   "outputs": [],
   "source": [
    "freeview -f lh.inflated:overlay=lh.masked_pol:overlay_custom=-3.14,255,0,0,-2.65,255,255,0,-2.09,0,128,0,-1.75,0,255,255,-1.05,0,0,255,-0.5,238,130,238,0,255,0,0,0.5,255,255,0,1.05,0,128,0,1.57,0,255,255,2.09,0,0,255,2.65,238,130,238,3.14,255,0,0 rh.inflated:overlay=rh.masked_pol:overlay_custom=-3.14,255,0,0,-2.65,255,255,0,-2.09,0,128,0,-1.75,0,255,255,-1.05,0,0,255,-0.5,238,130,238,0,255,0,0,0.5,255,255,0,1.05,0,128,0,1.57,0,255,255,2.09,0,0,255,2.65,238,130,238,3.14,255,0,0"
   ]
  },
  {
   "cell_type": "code",
   "execution_count": null,
   "metadata": {
    "vscode": {
     "languageId": "shellscript"
    }
   },
   "outputs": [],
   "source": [
    "freeview -f lh.inflated:overlay=lh.masked_ecc:overlay_custom=0,255,0,0,1,255,255,0,2,0,128,0,3,0,255,255,4,128,0,128 rh.inflated:overlay=rh.masked_ecc:overlay_custom=0,255,0,0,1,255,255,0,2,0,128,0,3,0,255,255,4,128,0,128"
   ]
  }
 ],
 "metadata": {
  "kernelspec": {
   "display_name": "base",
   "language": "python",
   "name": "python3"
  },
  "language_info": {
   "codemirror_mode": {
    "name": "ipython",
    "version": 3
   },
   "file_extension": ".py",
   "mimetype": "text/x-python",
   "name": "python",
   "nbconvert_exporter": "python",
   "pygments_lexer": "ipython3",
   "version": "3.9.10"
  },
  "orig_nbformat": 4
 },
 "nbformat": 4,
 "nbformat_minor": 2
}
